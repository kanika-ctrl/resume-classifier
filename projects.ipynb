{
 "cells": [
  {
   "cell_type": "code",
   "execution_count": 3,
   "id": "c14bf1d6",
   "metadata": {},
   "outputs": [],
   "source": [
    "import pandas as pd\n",
    "import numpy as np\n",
    "import re\n",
    "import string\n",
    "import nltk\n",
    "import spacy\n",
    "import streamlit as st\n",
    "import matplotlib.pyplot as plt"
   ]
  },
  {
   "cell_type": "code",
   "execution_count": 4,
   "id": "9e96b81e",
   "metadata": {},
   "outputs": [],
   "source": [
    "from nltk.corpus import stopwords\n",
    "from nltk.stem import WordNetLemmatizer\n",
    "from sklearn.preprocessing import LabelEncoder\n",
    "from sklearn.model_selection import train_test_split\n",
    "from sklearn.feature_extraction.text import TfidfVectorizer\n",
    "from sklearn.metrics import accuracy_score, classification_report, ConfusionMatrixDisplay\n",
    "from xgboost import XGBClassifier\n",
    "from sklearn.linear_model import LogisticRegression\n",
    "\n"
   ]
  },
  {
   "cell_type": "code",
   "execution_count": 5,
   "id": "c3501568",
   "metadata": {},
   "outputs": [],
   "source": [
    "import seaborn as sns"
   ]
  },
  {
   "cell_type": "code",
   "execution_count": 6,
   "id": "b493ced1",
   "metadata": {},
   "outputs": [
    {
     "name": "stderr",
     "output_type": "stream",
     "text": [
      "[nltk_data] Downloading package stopwords to\n",
      "[nltk_data]     C:\\Users\\91720\\AppData\\Roaming\\nltk_data...\n",
      "[nltk_data]   Package stopwords is already up-to-date!\n",
      "[nltk_data] Downloading package wordnet to\n",
      "[nltk_data]     C:\\Users\\91720\\AppData\\Roaming\\nltk_data...\n",
      "[nltk_data]   Package wordnet is already up-to-date!\n"
     ]
    }
   ],
   "source": [
    "# Download resources\n",
    "nltk.download('stopwords')\n",
    "nltk.download('wordnet')\n",
    "stop_words = set(stopwords.words('english'))\n",
    "lemmatizer = WordNetLemmatizer()\n",
    "nlp = spacy.load('en_core_web_sm')"
   ]
  },
  {
   "cell_type": "code",
   "execution_count": null,
   "id": "208122a2",
   "metadata": {},
   "outputs": [],
   "source": [
    "\n",
    "df=pd.read_csv(r\"C:\\Users\\91720\\OneDrive\\Desktop\\resume-classifier\\Resume\\Resume.csv\")"
   ]
  },
  {
   "cell_type": "code",
   "execution_count": 8,
   "id": "8a292fa2",
   "metadata": {},
   "outputs": [],
   "source": [
    "# Skill keywords (expandable)\n",
    "skill_keywords = [\n",
    "    'python', 'java', 'sql', 'machine learning', 'deep learning',\n",
    "    'c++', 'c', 'excel', 'tableau', 'nlp', 'django', 'flask',\n",
    "    'aws', 'azure', 'tensorflow', 'pandas', 'numpy'\n",
    "]"
   ]
  },
  {
   "cell_type": "code",
   "execution_count": 9,
   "id": "9fc6a25b",
   "metadata": {},
   "outputs": [],
   "source": [
    "def clean_text(text):\n",
    "    doc = nlp(text)\n",
    "    tokens = [\n",
    "        token.lemma_.lower() for token in doc\n",
    "        if token.pos_ in ['NOUN', 'ADJ', 'VERB', 'PROPN']  # ← BROADER\n",
    "        and token.text.lower() not in stop_words\n",
    "        and token.is_alpha\n",
    "    ]\n",
    "    return ' '.join(tokens)\n"
   ]
  },
  {
   "cell_type": "code",
   "execution_count": 10,
   "id": "5e2c83d3",
   "metadata": {},
   "outputs": [],
   "source": [
    "# Skill extractor\n",
    "def extract_skills(text):\n",
    "    text = text.lower()\n",
    "    return ' '.join([kw for kw in skill_keywords if kw in text])\n"
   ]
  },
  {
   "cell_type": "code",
   "execution_count": 11,
   "id": "651966d4",
   "metadata": {},
   "outputs": [],
   "source": [
    "# Encode target labels\n",
    "le = LabelEncoder()\n",
    "df['Encoded_Category'] = le.fit_transform(df['Category'])\n"
   ]
  },
  {
   "cell_type": "code",
   "execution_count": 12,
   "id": "611a4fe0",
   "metadata": {},
   "outputs": [],
   "source": [
    "# Apply text cleaning and skill extraction\n",
    "df['Cleaned_Resume'] = df['Resume_str'].apply(clean_text)\n",
    "df['Skills_Extracted'] = df['Resume_str'].apply(extract_skills)\n",
    "df['Final_Text'] = df['Cleaned_Resume'] + ' ' + df['Skills_Extracted']"
   ]
  },
  {
   "cell_type": "code",
   "execution_count": 13,
   "id": "17188956",
   "metadata": {},
   "outputs": [],
   "source": [
    "# lr = LogisticRegression(max_iter=1000, class_weight='balanced')\n",
    "# lr.fit(X_train_vec, y_train)\n",
    "# y_pred_lr = lr.predict(X_test_vec)\n",
    "# print(\"Logistic Regression Accuracy:\", accuracy_score(y_test, y_pred_lr))"
   ]
  },
  {
   "cell_type": "code",
   "execution_count": 14,
   "id": "644e2e6e",
   "metadata": {},
   "outputs": [],
   "source": [
    "# # from sklearn.tree import DecisionTreeClassifier\n",
    "\n",
    "# # dt_model = DecisionTreeClassifier()\n",
    "# dt_model.fit(X_train_vec, y_train)\n",
    "# y_pred_dt = dt_model.predict(X_test_vec)\n",
    "\n",
    "# acc_dt = accuracy_score(y_test, y_pred_dt)\n",
    "# print(\"Decision Tree Accuracy:\", acc_dt)\n"
   ]
  },
  {
   "cell_type": "code",
   "execution_count": 15,
   "id": "442a96e5",
   "metadata": {},
   "outputs": [],
   "source": [
    "# Final X and y\n",
    "X = df['Final_Text']\n",
    "y = df['Encoded_Category']"
   ]
  },
  {
   "cell_type": "code",
   "execution_count": 16,
   "id": "993c24ec",
   "metadata": {},
   "outputs": [],
   "source": [
    "# Train/test split\n",
    "X_train, X_test, y_train, y_test = train_test_split(\n",
    "    X, y, test_size=0.2, random_state=42, stratify=y\n",
    ")"
   ]
  },
  {
   "cell_type": "code",
   "execution_count": 17,
   "id": "b2b419b1",
   "metadata": {},
   "outputs": [],
   "source": [
    "vectorizer = TfidfVectorizer(\n",
    "    stop_words='english',\n",
    "    max_features=20000,   # ← was 15k, try increasing\n",
    "    ngram_range=(1, 2),\n",
    "    min_df=2              # ← slightly lower to include more relevant words\n",
    ")"
   ]
  },
  {
   "cell_type": "code",
   "execution_count": 18,
   "id": "c0bbbd46",
   "metadata": {},
   "outputs": [],
   "source": [
    "X_train_vec = vectorizer.fit_transform(X_train)\n",
    "X_test_vec = vectorizer.transform(X_test)\n"
   ]
  },
  {
   "cell_type": "code",
   "execution_count": null,
   "id": "7ff943e1",
   "metadata": {},
   "outputs": [],
   "source": [
    "xgb_model = XGBClassifier(\n",
    "    eval_metric='mlogloss',\n",
    "    n_estimators=400,\n",
    "    max_depth=7,\n",
    "    learning_rate=0.08,\n",
    "    subsample=0.85,\n",
    "    colsample_bytree=0.85\n",
    ")\n",
    "xgb_model.fit(X_train_vec, y_train)\n",
    "y_pred = xgb_model.predict(X_test_vec)\n"
   ]
  },
  {
   "cell_type": "code",
   "execution_count": null,
   "id": "e9b47db6",
   "metadata": {},
   "outputs": [
    {
     "name": "stdout",
     "output_type": "stream",
     "text": [
      "✅ XGBoost Accuracy: 0.8028169014084507\n"
     ]
    }
   ],
   "source": [
    "print(\"✅ XGBoost Accuracy:\", accuracy_score(y_test, y_pred))"
   ]
  },
  {
   "cell_type": "code",
   "execution_count": null,
   "id": "d2e8fdfe",
   "metadata": {},
   "outputs": [
    {
     "data": {
      "image/png": "[encoded data removed]",
      "text/plain": [
       "<Figure size 800x500 with 1 Axes>"
      ]
     },
     "metadata": {},
     "output_type": "display_data"
    }
   ],
   "source": [
    "import matplotlib.pyplot as plt\n",
    "\n",
    "# Example: Accuracy of multiple models\n",
    "models = ['XGBoost', 'Logistic Regression', 'Decision Tree']\n",
    "accuracies = [0.8028, 0.5935, 0.613]  # Replace with actual values\n",
    "\n",
    "plt.figure(figsize=(8, 5))\n",
    "plt.bar(models, accuracies, color=['skyblue', 'salmon', 'lightgreen'])\n",
    "plt.ylim(0, 1)\n",
    "plt.ylabel(\"Accuracy\")\n",
    "plt.title(\"Model Accuracy Comparison\")\n",
    "plt.grid(axis='y')\n",
    "plt.show()\n"
   ]
  },
  {
   "cell_type": "code",
   "execution_count": null,
   "id": "859dd266",
   "metadata": {},
   "outputs": [
    {
     "ename": "NameError",
     "evalue": "name 'clean_text' is not defined",
     "output_type": "error",
     "traceback": [
      "\u001b[31m---------------------------------------------------------------------------\u001b[39m",
      "\u001b[31mNameError\u001b[39m                                 Traceback (most recent call last)",
      "\u001b[36mCell\u001b[39m\u001b[36m \u001b[39m\u001b[32mIn[2]\u001b[39m\u001b[32m, line 5\u001b[39m\n\u001b[32m      2\u001b[39m sample_resume = \u001b[38;5;28minput\u001b[39m(\u001b[33m\"\u001b[39m\u001b[33mPaste resume text here:\u001b[39m\u001b[38;5;130;01m\\n\u001b[39;00m\u001b[33m\"\u001b[39m)\n\u001b[32m      4\u001b[39m \u001b[38;5;66;03m# Clean and prepare\u001b[39;00m\n\u001b[32m----> \u001b[39m\u001b[32m5\u001b[39m cleaned = \u001b[43mclean_text\u001b[49m(sample_resume)\n\u001b[32m      6\u001b[39m skills = extract_skills(sample_resume)\n\u001b[32m      7\u001b[39m final_text = cleaned + \u001b[33m\"\u001b[39m\u001b[33m \u001b[39m\u001b[33m\"\u001b[39m + skills\n",
      "\u001b[31mNameError\u001b[39m: name 'clean_text' is not defined"
     ]
    }
   ],
   "source": [
    "# --- Custom input test ---\n",
    "sample_resume = input(\"Paste resume text here:\\n\")\n",
    "\n",
    "# Clean and prepare\n",
    "cleaned = clean_text(sample_resume)\n",
    "skills = extract_skills(sample_resume)\n",
    "final_text = cleaned + \" \" + skills\n",
    "vectorized = vectorizer.transform([final_text])\n",
    "\n",
    "# Predict\n",
    "predicted = xgb_model.predict(vectorized)\n",
    "predicted_role = le.inverse_transform(predicted)[0]\n",
    "print(\"\\n✅ Predicted Resume Category:\", predicted_role)\n"
   ]
  },
  {
   "cell_type": "code",
   "execution_count": null,
   "id": "c823378a",
   "metadata": {},
   "outputs": [],
   "source": []
  },
  {
   "cell_type": "code",
   "execution_count": null,
   "id": "cb77fe29",
   "metadata": {},
   "outputs": [],
   "source": []
  },
  {
   "cell_type": "code",
   "execution_count": null,
   "id": "b2145665",
   "metadata": {},
   "outputs": [],
   "source": []
  },
  {
   "cell_type": "code",
   "execution_count": null,
   "id": "fa3931a7",
   "metadata": {},
   "outputs": [],
   "source": []
  },
  {
   "cell_type": "code",
   "execution_count": null,
   "id": "aca813bf",
   "metadata": {},
   "outputs": [],
   "source": []
  },
  {
   "cell_type": "code",
   "execution_count": null,
   "id": "479f850d",
   "metadata": {},
   "outputs": [],
   "source": []
  },
  {
   "cell_type": "code",
   "execution_count": null,
   "id": "5668410b",
   "metadata": {},
   "outputs": [],
   "source": []
  },
  {
   "cell_type": "code",
   "execution_count": null,
   "id": "1fb76020",
   "metadata": {},
   "outputs": [],
   "source": []
  },
  {
   "cell_type": "code",
   "execution_count": null,
   "id": "4082a342",
   "metadata": {},
   "outputs": [],
   "source": []
  },
  {
   "cell_type": "code",
   "execution_count": null,
   "id": "b524f748",
   "metadata": {},
   "outputs": [],
   "source": []
  }
 ],
 "metadata": {
  "kernelspec": {
   "display_name": "Python 3",
   "language": "python",
   "name": "python3"
  },
  "language_info": {
   "codemirror_mode": {
    "name": "ipython",
    "version": 3
   },
   "file_extension": ".py",
   "mimetype": "text/x-python",
   "name": "python",
   "nbconvert_exporter": "python",
   "pygments_lexer": "ipython3",
   "version": "3.11.9"
  }
 },
 "nbformat": 4,
 "nbformat_minor": 5
}
